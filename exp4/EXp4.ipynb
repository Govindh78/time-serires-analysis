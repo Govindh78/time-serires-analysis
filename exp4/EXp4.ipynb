{
 "cells": [
  {
   "cell_type": "code",
   "execution_count": null,
   "metadata": {
    "vscode": {
     "languageId": "plaintext"
    }
   },
   "outputs": [],
   "source": [
    "from google.colab import files\n",
    " \n",
    " \n",
    "uploaded = files.upload()\n",
    "import pandas as pd"
   ]
  },
  {
   "cell_type": "code",
   "execution_count": null,
   "metadata": {
    "vscode": {
     "languageId": "plaintext"
    }
   },
   "outputs": [],
   "source": [
    "\n",
    "import io\n",
    "\n",
    "df = pd.read_csv(io.BytesIO(uploaded[\"time_series_data (2).csv\"]))\n",
    "print(df)"
   ]
  },
  {
   "cell_type": "code",
   "execution_count": null,
   "metadata": {
    "vscode": {
     "languageId": "plaintext"
    }
   },
   "outputs": [],
   "source": [
    "# prompt: Implement programs to check stationary of a time series data\n",
    "\n",
    "import matplotlib.pyplot as plt\n",
    "from statsmodels.tsa.stattools import adfuller\n",
    "\n",
    "# Assuming 'df' is your DataFrame and 'value_column' is the name of the column containing the time series data\n",
    "# Replace 'value_column' with the actual column name in your DataFrame\n",
    "value_column = 'Value'  # Changed from 'value' to 'Value' to match the actual column name\n",
    "\n",
    "# Perform Augmented Dickey-Fuller test\n",
    "result = adfuller(df[value_column])\n",
    "\n",
    "# Print the test results\n",
    "print('ADF Statistic: %f' % result[0])\n",
    "print('p-value: %f' % result[1])\n",
    "print('Critical Values:')\n",
    "for key, value in result[4].items():\n",
    "    print('\\t%s: %.3f' % (key, value))\n",
    "\n",
    "# Plot the time series data\n",
    "plt.figure(figsize=(10, 6))\n",
    "plt.plot(df.index, df[value_column])\n",
    "plt.xlabel(\"Time\")\n",
    "plt.ylabel(value_column)\n",
    "plt.title(\"Time Series Plot\")\n",
    "plt.grid(True)\n",
    "plt.show()\n",
    "\n",
    "# Interpret the results\n",
    "if result[1] <= 0.05:\n",
    "    print(\"\\nThe time series is stationary.\")\n",
    "else:\n",
    "    print(\"\\nThe time series is non-stationary.\")"
   ]
  }
 ],
 "metadata": {
  "language_info": {
   "name": "python"
  }
 },
 "nbformat": 4,
 "nbformat_minor": 2
}
